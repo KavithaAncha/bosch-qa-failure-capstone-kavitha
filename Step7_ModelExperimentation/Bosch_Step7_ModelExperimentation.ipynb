{
  "cells": [
    {
      "cell_type": "markdown",
      "metadata": {
        "id": "view-in-github",
        "colab_type": "text"
      },
      "source": [
        "<a href=\"https://colab.research.google.com/github/KavithaAncha/bosch-qa-failure-capstone-kavitha/blob/main/Step7_ModelExperimentation/Bosch_Step7_ModelExperimentation.ipynb\" target=\"_parent\"><img src=\"https://colab.research.google.com/assets/colab-badge.svg\" alt=\"Open In Colab\"/></a>"
      ]
    },
    {
      "cell_type": "markdown",
      "id": "7bf319eb",
      "metadata": {
        "id": "7bf319eb"
      },
      "source": [
        "### Step 1: Set Up Environment\n",
        "_Install required libraries and import all necessary packages for data preprocessing, model building, evaluation, and balancing._"
      ]
    },
    {
      "cell_type": "code",
      "execution_count": 3,
      "id": "b9ac95fe",
      "metadata": {
        "id": "b9ac95fe"
      },
      "outputs": [],
      "source": [
        "!pip install -q imbalanced-learn\n",
        "\n",
        "import pandas as pd\n",
        "import numpy as np\n",
        "import matplotlib.pyplot as plt\n",
        "import seaborn as sns\n",
        "\n",
        "from collections import Counter\n",
        "from sklearn.model_selection import train_test_split, cross_val_score, GridSearchCV\n",
        "from sklearn.metrics import (\n",
        "    accuracy_score, f1_score, roc_auc_score, confusion_matrix, ConfusionMatrixDisplay\n",
        ")\n",
        "from sklearn.impute import SimpleImputer\n",
        "from sklearn.linear_model import LogisticRegression\n",
        "from sklearn.ensemble import RandomForestClassifier, VotingClassifier\n",
        "from xgboost import XGBClassifier\n",
        "from lightgbm import LGBMClassifier\n",
        "from imblearn.over_sampling import SMOTE\n"
      ]
    },
    {
      "cell_type": "markdown",
      "id": "c79eacd0",
      "metadata": {
        "id": "c79eacd0"
      },
      "source": [
        "### Step 2: Load & Prepare Data\n",
        "_Load the cleaned Bosch dataset, split features and labels, and apply missing value imputation to prepare for modeling._"
      ]
    },
    {
      "cell_type": "code",
      "execution_count": 4,
      "id": "6ea97478",
      "metadata": {
        "id": "6ea97478"
      },
      "outputs": [],
      "source": [
        "data = pd.read_csv('/content/sample_data/bosch_sample_cleaned_fixed_labeled.csv')\n",
        "X = data.drop('Response', axis=1)\n",
        "y = data['Response']\n",
        "\n",
        "X_train, X_test, y_train, y_test = train_test_split(\n",
        "    X, y, stratify=y, test_size=0.2, random_state=42\n",
        ")\n",
        "\n",
        "imputer = SimpleImputer(strategy='median')\n",
        "X_train = imputer.fit_transform(X_train)\n",
        "X_test = imputer.transform(X_test)\n"
      ]
    },
    {
      "cell_type": "markdown",
      "id": "79373a16",
      "metadata": {
        "id": "79373a16"
      },
      "source": [
        "### Step 3: Apply SMOTE\n",
        "_Apply SMOTE to address extreme class imbalance by generating synthetic examples of the minority class (QA failures)._"
      ]
    },
    {
      "cell_type": "code",
      "execution_count": 5,
      "id": "627842b7",
      "metadata": {
        "colab": {
          "base_uri": "https://localhost:8080/"
        },
        "id": "627842b7",
        "outputId": "f345337b-94ad-4e4e-b51a-f85e1f5c2807"
      },
      "outputs": [
        {
          "output_type": "stream",
          "name": "stdout",
          "text": [
            "Original: Counter({0.0: 1196, 1.0: 6})\n",
            "SMOTE Balanced: Counter({0.0: 1196, 1.0: 1196})\n"
          ]
        }
      ],
      "source": [
        "smote = SMOTE(random_state=42)\n",
        "X_train_smote, y_train_smote = smote.fit_resample(X_train, y_train)\n",
        "\n",
        "print(\"Original:\", Counter(y_train))\n",
        "print(\"SMOTE Balanced:\", Counter(y_train_smote))\n"
      ]
    },
    {
      "cell_type": "markdown",
      "id": "591015df",
      "metadata": {
        "id": "591015df"
      },
      "source": [
        "### Step 4: Define Evaluation Function\n",
        "_Create a helper function to evaluate models consistently using Accuracy, F1 Score, ROC AUC, and the confusion matrix._"
      ]
    },
    {
      "cell_type": "code",
      "execution_count": 6,
      "id": "bce12f63",
      "metadata": {
        "id": "bce12f63"
      },
      "outputs": [],
      "source": [
        "def evaluate_model(model, X_test, y_test):\n",
        "    y_pred = model.predict(X_test)\n",
        "    print(\"Accuracy:\", accuracy_score(y_test, y_pred))\n",
        "    print(\"F1 Score:\", f1_score(y_test, y_pred, zero_division=0))\n",
        "    print(\"ROC AUC:\", roc_auc_score(y_test, y_pred))\n",
        "    print(\"Confusion Matrix:\\n\", confusion_matrix(y_test, y_pred))\n"
      ]
    },
    {
      "cell_type": "markdown",
      "id": "30753d7c",
      "metadata": {
        "id": "30753d7c"
      },
      "source": [
        "### Step 5: Train Models with Class Weights & SMOTE\n",
        "_Train standard ML models (Logistic Regression, Random Forest, XGBoost, LightGBM) using two strategies: class weights and SMOTE-balanced data._"
      ]
    },
    {
      "cell_type": "code",
      "execution_count": 7,
      "id": "071e1084",
      "metadata": {
        "colab": {
          "base_uri": "https://localhost:8080/"
        },
        "id": "071e1084",
        "outputId": "4179d8d2-94e0-4912-b49c-be25390c16a7"
      },
      "outputs": [
        {
          "output_type": "stream",
          "name": "stdout",
          "text": [
            "\n",
            "--- Class Weight Models ---\n",
            "\n",
            "Logistic Regression\n",
            "Accuracy: 0.7275747508305648\n",
            "F1 Score: 0.023809523809523808\n",
            "ROC AUC: 0.8633333333333333\n",
            "Confusion Matrix:\n",
            " [[218  82]\n",
            " [  0   1]]\n",
            "\n",
            "Random Forest\n",
            "Accuracy: 0.9933554817275747\n",
            "F1 Score: 0.0\n",
            "ROC AUC: 0.49833333333333335\n",
            "Confusion Matrix:\n",
            " [[299   1]\n",
            " [  1   0]]\n",
            "\n",
            "XGBoost\n"
          ]
        },
        {
          "output_type": "stream",
          "name": "stderr",
          "text": [
            "/usr/local/lib/python3.11/dist-packages/xgboost/core.py:158: UserWarning: [17:10:38] WARNING: /workspace/src/learner.cc:740: \n",
            "Parameters: { \"use_label_encoder\" } are not used.\n",
            "\n",
            "  warnings.warn(smsg, UserWarning)\n"
          ]
        },
        {
          "output_type": "stream",
          "name": "stdout",
          "text": [
            "Accuracy: 0.9966777408637874\n",
            "F1 Score: 0.0\n",
            "ROC AUC: 0.5\n",
            "Confusion Matrix:\n",
            " [[300   0]\n",
            " [  1   0]]\n",
            "\n",
            "LightGBM\n",
            "[LightGBM] [Info] Number of positive: 6, number of negative: 1196\n",
            "[LightGBM] [Info] Auto-choosing row-wise multi-threading, the overhead of testing was 0.002198 seconds.\n",
            "You can set `force_row_wise=true` to remove the overhead.\n",
            "And if memory is not enough, you can set `force_col_wise=true`.\n",
            "[LightGBM] [Info] Total Bins 5208\n",
            "[LightGBM] [Info] Number of data points in the train set: 1202, number of used features: 95\n",
            "[LightGBM] [Info] [binary:BoostFromScore]: pavg=0.004992 -> initscore=-5.294978\n",
            "[LightGBM] [Info] Start training from score -5.294978\n",
            "[LightGBM] [Warning] No further splits with positive gain, best gain: -inf\n",
            "[LightGBM] [Warning] No further splits with positive gain, best gain: -inf\n"
          ]
        },
        {
          "output_type": "stream",
          "name": "stderr",
          "text": [
            "/usr/local/lib/python3.11/dist-packages/sklearn/utils/deprecation.py:151: FutureWarning: 'force_all_finite' was renamed to 'ensure_all_finite' in 1.6 and will be removed in 1.8.\n",
            "  warnings.warn(\n"
          ]
        },
        {
          "output_type": "stream",
          "name": "stdout",
          "text": [
            "[LightGBM] [Warning] No further splits with positive gain, best gain: -inf\n",
            "[LightGBM] [Warning] No further splits with positive gain, best gain: -inf\n",
            "[LightGBM] [Warning] No further splits with positive gain, best gain: -inf\n",
            "[LightGBM] [Warning] No further splits with positive gain, best gain: -inf\n",
            "[LightGBM] [Warning] No further splits with positive gain, best gain: -inf\n",
            "[LightGBM] [Warning] No further splits with positive gain, best gain: -inf\n",
            "[LightGBM] [Warning] No further splits with positive gain, best gain: -inf\n",
            "[LightGBM] [Warning] No further splits with positive gain, best gain: -inf\n",
            "[LightGBM] [Warning] No further splits with positive gain, best gain: -inf\n",
            "[LightGBM] [Warning] No further splits with positive gain, best gain: -inf\n",
            "[LightGBM] [Warning] No further splits with positive gain, best gain: -inf\n",
            "[LightGBM] [Warning] No further splits with positive gain, best gain: -inf\n",
            "[LightGBM] [Warning] No further splits with positive gain, best gain: -inf\n",
            "[LightGBM] [Warning] No further splits with positive gain, best gain: -inf\n",
            "[LightGBM] [Warning] No further splits with positive gain, best gain: -inf\n",
            "[LightGBM] [Warning] No further splits with positive gain, best gain: -inf\n",
            "[LightGBM] [Warning] No further splits with positive gain, best gain: -inf\n",
            "[LightGBM] [Warning] No further splits with positive gain, best gain: -inf\n",
            "[LightGBM] [Warning] No further splits with positive gain, best gain: -inf\n",
            "[LightGBM] [Warning] No further splits with positive gain, best gain: -inf\n",
            "[LightGBM] [Warning] No further splits with positive gain, best gain: -inf\n",
            "[LightGBM] [Warning] No further splits with positive gain, best gain: -inf\n",
            "[LightGBM] [Warning] No further splits with positive gain, best gain: -inf\n",
            "[LightGBM] [Warning] No further splits with positive gain, best gain: -inf\n",
            "[LightGBM] [Warning] No further splits with positive gain, best gain: -inf\n",
            "[LightGBM] [Warning] No further splits with positive gain, best gain: -inf\n",
            "[LightGBM] [Warning] No further splits with positive gain, best gain: -inf\n",
            "[LightGBM] [Warning] No further splits with positive gain, best gain: -inf\n",
            "[LightGBM] [Warning] No further splits with positive gain, best gain: -inf\n",
            "[LightGBM] [Warning] No further splits with positive gain, best gain: -inf\n",
            "[LightGBM] [Warning] No further splits with positive gain, best gain: -inf\n",
            "[LightGBM] [Warning] No further splits with positive gain, best gain: -inf\n",
            "[LightGBM] [Warning] No further splits with positive gain, best gain: -inf\n",
            "[LightGBM] [Warning] No further splits with positive gain, best gain: -inf\n",
            "[LightGBM] [Warning] No further splits with positive gain, best gain: -inf\n",
            "[LightGBM] [Warning] No further splits with positive gain, best gain: -inf\n",
            "[LightGBM] [Warning] No further splits with positive gain, best gain: -inf\n",
            "[LightGBM] [Warning] No further splits with positive gain, best gain: -inf\n",
            "Accuracy: 0.9966777408637874\n",
            "F1 Score: 0.0\n",
            "ROC AUC: 0.5\n",
            "Confusion Matrix:\n",
            " [[300   0]\n",
            " [  1   0]]\n",
            "\n",
            "--- SMOTE Models ---\n",
            "\n",
            "Logistic Regression\n"
          ]
        },
        {
          "output_type": "stream",
          "name": "stderr",
          "text": [
            "/usr/local/lib/python3.11/dist-packages/sklearn/utils/deprecation.py:151: FutureWarning: 'force_all_finite' was renamed to 'ensure_all_finite' in 1.6 and will be removed in 1.8.\n",
            "  warnings.warn(\n",
            "/usr/local/lib/python3.11/dist-packages/sklearn/linear_model/_logistic.py:465: ConvergenceWarning: lbfgs failed to converge (status=1):\n",
            "STOP: TOTAL NO. OF ITERATIONS REACHED LIMIT.\n",
            "\n",
            "Increase the number of iterations (max_iter) or scale the data as shown in:\n",
            "    https://scikit-learn.org/stable/modules/preprocessing.html\n",
            "Please also refer to the documentation for alternative solver options:\n",
            "    https://scikit-learn.org/stable/modules/linear_model.html#logistic-regression\n",
            "  n_iter_i = _check_optimize_result(\n"
          ]
        },
        {
          "output_type": "stream",
          "name": "stdout",
          "text": [
            "Accuracy: 0.760797342192691\n",
            "F1 Score: 0.02702702702702703\n",
            "ROC AUC: 0.88\n",
            "Confusion Matrix:\n",
            " [[228  72]\n",
            " [  0   1]]\n",
            "\n",
            "Random Forest\n",
            "Accuracy: 0.9501661129568106\n",
            "F1 Score: 0.0\n",
            "ROC AUC: 0.4766666666666667\n",
            "Confusion Matrix:\n",
            " [[286  14]\n",
            " [  1   0]]\n",
            "\n",
            "XGBoost\n"
          ]
        },
        {
          "output_type": "stream",
          "name": "stderr",
          "text": [
            "/usr/local/lib/python3.11/dist-packages/xgboost/core.py:158: UserWarning: [17:10:48] WARNING: /workspace/src/learner.cc:740: \n",
            "Parameters: { \"use_label_encoder\" } are not used.\n",
            "\n",
            "  warnings.warn(smsg, UserWarning)\n"
          ]
        },
        {
          "output_type": "stream",
          "name": "stdout",
          "text": [
            "Accuracy: 0.9700996677740864\n",
            "F1 Score: 0.0\n",
            "ROC AUC: 0.4866666666666667\n",
            "Confusion Matrix:\n",
            " [[292   8]\n",
            " [  1   0]]\n",
            "\n",
            "LightGBM\n",
            "[LightGBM] [Info] Number of positive: 1196, number of negative: 1196\n",
            "[LightGBM] [Info] Auto-choosing row-wise multi-threading, the overhead of testing was 0.003032 seconds.\n",
            "You can set `force_row_wise=true` to remove the overhead.\n",
            "And if memory is not enough, you can set `force_col_wise=true`.\n",
            "[LightGBM] [Info] Total Bins 16616\n",
            "[LightGBM] [Info] Number of data points in the train set: 2392, number of used features: 95\n",
            "[LightGBM] [Info] [binary:BoostFromScore]: pavg=0.500000 -> initscore=0.000000\n",
            "[LightGBM] [Warning] No further splits with positive gain, best gain: -inf\n"
          ]
        },
        {
          "output_type": "stream",
          "name": "stderr",
          "text": [
            "/usr/local/lib/python3.11/dist-packages/sklearn/utils/deprecation.py:151: FutureWarning: 'force_all_finite' was renamed to 'ensure_all_finite' in 1.6 and will be removed in 1.8.\n",
            "  warnings.warn(\n"
          ]
        },
        {
          "output_type": "stream",
          "name": "stdout",
          "text": [
            "Accuracy: 0.9534883720930233\n",
            "F1 Score: 0.0\n",
            "ROC AUC: 0.47833333333333333\n",
            "Confusion Matrix:\n",
            " [[287  13]\n",
            " [  1   0]]\n"
          ]
        },
        {
          "output_type": "stream",
          "name": "stderr",
          "text": [
            "/usr/local/lib/python3.11/dist-packages/sklearn/utils/deprecation.py:151: FutureWarning: 'force_all_finite' was renamed to 'ensure_all_finite' in 1.6 and will be removed in 1.8.\n",
            "  warnings.warn(\n"
          ]
        }
      ],
      "source": [
        "models_class_weight = {\n",
        "    \"Logistic Regression\": LogisticRegression(max_iter=1000, class_weight='balanced'),\n",
        "    \"Random Forest\": RandomForestClassifier(n_estimators=100, class_weight='balanced'),\n",
        "    \"XGBoost\": XGBClassifier(use_label_encoder=False, eval_metric='logloss'),\n",
        "    \"LightGBM\": LGBMClassifier()\n",
        "}\n",
        "models_smote = {name: model for name, model in models_class_weight.items()}\n",
        "\n",
        "print(\"\\n--- Class Weight Models ---\")\n",
        "for name, model in models_class_weight.items():\n",
        "    print(f\"\\n{name}\")\n",
        "    model.fit(X_train, y_train)\n",
        "    evaluate_model(model, X_test, y_test)\n",
        "\n",
        "print(\"\\n--- SMOTE Models ---\")\n",
        "for name, model in models_smote.items():\n",
        "    print(f\"\\n{name}\")\n",
        "    model.fit(X_train_smote, y_train_smote)\n",
        "    evaluate_model(model, X_test, y_test)\n"
      ]
    },
    {
      "cell_type": "markdown",
      "id": "ab460da6",
      "metadata": {
        "id": "ab460da6"
      },
      "source": [
        "### Step 6: Visualize Confusion Matrices\n",
        "_Compare how well each model identifies true positives and negatives via visual confusion matrices for both strategies._"
      ]
    },
    {
      "cell_type": "code",
      "execution_count": 8,
      "id": "7d67a279",
      "metadata": {
        "colab": {
          "base_uri": "https://localhost:8080/",
          "height": 1000
        },
        "id": "7d67a279",
        "outputId": "6fc31dec-1621-420c-ffa9-82e11bf9d8a9"
      },
      "outputs": [
        {
          "output_type": "stream",
          "name": "stderr",
          "text": [
            "/usr/local/lib/python3.11/dist-packages/sklearn/utils/deprecation.py:151: FutureWarning: 'force_all_finite' was renamed to 'ensure_all_finite' in 1.6 and will be removed in 1.8.\n",
            "  warnings.warn(\n"
          ]
        },
        {
          "output_type": "display_data",
          "data": {
            "text/plain": [
              "<Figure size 1200x1000 with 4 Axes>"
            ],
            "image/png": "[encoded data removed]"
          },
          "metadata": {}
        },
        {
          "output_type": "stream",
          "name": "stderr",
          "text": [
            "/usr/local/lib/python3.11/dist-packages/sklearn/utils/deprecation.py:151: FutureWarning: 'force_all_finite' was renamed to 'ensure_all_finite' in 1.6 and will be removed in 1.8.\n",
            "  warnings.warn(\n"
          ]
        },
        {
          "output_type": "display_data",
          "data": {
            "text/plain": [
              "<Figure size 1200x1000 with 4 Axes>"
            ],
            "image/png": "[encoded data removed]"
          },
          "metadata": {}
        }
      ],
      "source": [
        "def plot_conf_matrices(models, X_test, y_test, title):\n",
        "    fig, axs = plt.subplots(2, 2, figsize=(12, 10))\n",
        "    axs = axs.flatten()\n",
        "\n",
        "    for i, (name, model) in enumerate(models.items()):\n",
        "        y_pred = model.predict(X_test)\n",
        "        cm = confusion_matrix(y_test, y_pred)\n",
        "        disp = ConfusionMatrixDisplay(cm, display_labels=[\"Pass (0)\", \"Fail (1)\"])\n",
        "        disp.plot(ax=axs[i], values_format='d', colorbar=False)\n",
        "        axs[i].set_title(f\"{name} - {title}\")\n",
        "\n",
        "    plt.tight_layout()\n",
        "    plt.show()\n",
        "\n",
        "plot_conf_matrices(models_class_weight, X_test, y_test, \"Class Weight\")\n",
        "plot_conf_matrices(models_smote, X_test, y_test, \"SMOTE\")\n"
      ]
    },
    {
      "cell_type": "markdown",
      "id": "923f3ffa",
      "metadata": {
        "id": "923f3ffa"
      },
      "source": [
        "### Step 7: Hyperparameter Tuning (XGBoost)\n",
        "_Use GridSearchCV to tune hyperparameters for XGBoost and identify the best configuration to improve F1 score._"
      ]
    },
    {
      "cell_type": "code",
      "execution_count": 9,
      "id": "af5b1f7f",
      "metadata": {
        "colab": {
          "base_uri": "https://localhost:8080/"
        },
        "id": "af5b1f7f",
        "outputId": "f6ff45f6-d1b6-4d36-c5ab-3388e0959956"
      },
      "outputs": [
        {
          "output_type": "stream",
          "name": "stdout",
          "text": [
            "Fitting 3 folds for each of 8 candidates, totalling 24 fits\n"
          ]
        },
        {
          "output_type": "stream",
          "name": "stderr",
          "text": [
            "/usr/local/lib/python3.11/dist-packages/xgboost/core.py:158: UserWarning: [17:11:13] WARNING: /workspace/src/learner.cc:740: \n",
            "Parameters: { \"use_label_encoder\" } are not used.\n",
            "\n",
            "  warnings.warn(smsg, UserWarning)\n"
          ]
        },
        {
          "output_type": "stream",
          "name": "stdout",
          "text": [
            "Best Parameters: {'learning_rate': 0.1, 'max_depth': 6, 'n_estimators': 100}\n",
            "Accuracy: 0.9767441860465116\n",
            "F1 Score: 0.0\n",
            "ROC AUC: 0.49\n",
            "Confusion Matrix:\n",
            " [[294   6]\n",
            " [  1   0]]\n"
          ]
        }
      ],
      "source": [
        "param_grid = {\n",
        "    \"n_estimators\": [100, 300],\n",
        "    \"max_depth\": [3, 6],\n",
        "    \"learning_rate\": [0.01, 0.1]\n",
        "}\n",
        "grid = GridSearchCV(\n",
        "    XGBClassifier(use_label_encoder=False, eval_metric='logloss'),\n",
        "    param_grid,\n",
        "    cv=3, scoring='f1', verbose=1, n_jobs=-1\n",
        ")\n",
        "grid.fit(X_train_smote, y_train_smote)\n",
        "\n",
        "print(\"Best Parameters:\", grid.best_params_)\n",
        "evaluate_model(grid.best_estimator_, X_test, y_test)\n"
      ]
    },
    {
      "cell_type": "markdown",
      "id": "c9efbc05",
      "metadata": {
        "id": "c9efbc05"
      },
      "source": [
        "### Step 8: Ensemble Modeling\n",
        "_Combine predictions from multiple models using soft voting to explore potential performance gains from ensembling._"
      ]
    },
    {
      "cell_type": "code",
      "execution_count": 10,
      "id": "3fba861c",
      "metadata": {
        "colab": {
          "base_uri": "https://localhost:8080/"
        },
        "id": "3fba861c",
        "outputId": "3a1db159-b364-42ec-dcfc-64c67081e958"
      },
      "outputs": [
        {
          "output_type": "stream",
          "name": "stderr",
          "text": [
            "/usr/local/lib/python3.11/dist-packages/xgboost/core.py:158: UserWarning: [17:11:14] WARNING: /workspace/src/learner.cc:740: \n",
            "Parameters: { \"use_label_encoder\" } are not used.\n",
            "\n",
            "  warnings.warn(smsg, UserWarning)\n",
            "/usr/local/lib/python3.11/dist-packages/sklearn/utils/deprecation.py:151: FutureWarning: 'force_all_finite' was renamed to 'ensure_all_finite' in 1.6 and will be removed in 1.8.\n",
            "  warnings.warn(\n"
          ]
        },
        {
          "output_type": "stream",
          "name": "stdout",
          "text": [
            "[LightGBM] [Info] Number of positive: 6, number of negative: 1196\n",
            "[LightGBM] [Info] Auto-choosing col-wise multi-threading, the overhead of testing was 0.001682 seconds.\n",
            "You can set `force_col_wise=true` to remove the overhead.\n",
            "[LightGBM] [Info] Total Bins 5208\n",
            "[LightGBM] [Info] Number of data points in the train set: 1202, number of used features: 95\n",
            "[LightGBM] [Info] [binary:BoostFromScore]: pavg=0.004992 -> initscore=-5.294978\n",
            "[LightGBM] [Info] Start training from score -5.294978\n",
            "[LightGBM] [Warning] No further splits with positive gain, best gain: -inf\n",
            "[LightGBM] [Warning] No further splits with positive gain, best gain: -inf\n",
            "[LightGBM] [Warning] No further splits with positive gain, best gain: -inf\n",
            "[LightGBM] [Warning] No further splits with positive gain, best gain: -inf\n",
            "[LightGBM] [Warning] No further splits with positive gain, best gain: -inf\n",
            "[LightGBM] [Warning] No further splits with positive gain, best gain: -inf\n",
            "[LightGBM] [Warning] No further splits with positive gain, best gain: -inf\n",
            "[LightGBM] [Warning] No further splits with positive gain, best gain: -inf\n",
            "[LightGBM] [Warning] No further splits with positive gain, best gain: -inf\n",
            "[LightGBM] [Warning] No further splits with positive gain, best gain: -inf\n",
            "[LightGBM] [Warning] No further splits with positive gain, best gain: -inf\n",
            "[LightGBM] [Warning] No further splits with positive gain, best gain: -inf\n",
            "[LightGBM] [Warning] No further splits with positive gain, best gain: -inf\n",
            "[LightGBM] [Warning] No further splits with positive gain, best gain: -inf\n",
            "[LightGBM] [Warning] No further splits with positive gain, best gain: -inf\n",
            "[LightGBM] [Warning] No further splits with positive gain, best gain: -inf\n",
            "[LightGBM] [Warning] No further splits with positive gain, best gain: -inf\n",
            "[LightGBM] [Warning] No further splits with positive gain, best gain: -inf\n",
            "[LightGBM] [Warning] No further splits with positive gain, best gain: -inf\n",
            "[LightGBM] [Warning] No further splits with positive gain, best gain: -inf\n",
            "[LightGBM] [Warning] No further splits with positive gain, best gain: -inf\n",
            "[LightGBM] [Warning] No further splits with positive gain, best gain: -inf\n",
            "[LightGBM] [Warning] No further splits with positive gain, best gain: -inf\n",
            "[LightGBM] [Warning] No further splits with positive gain, best gain: -inf\n",
            "[LightGBM] [Warning] No further splits with positive gain, best gain: -inf\n",
            "[LightGBM] [Warning] No further splits with positive gain, best gain: -inf\n",
            "[LightGBM] [Warning] No further splits with positive gain, best gain: -inf\n",
            "[LightGBM] [Warning] No further splits with positive gain, best gain: -inf\n",
            "[LightGBM] [Warning] No further splits with positive gain, best gain: -inf\n",
            "[LightGBM] [Warning] No further splits with positive gain, best gain: -inf\n",
            "[LightGBM] [Warning] No further splits with positive gain, best gain: -inf\n",
            "[LightGBM] [Warning] No further splits with positive gain, best gain: -inf\n",
            "[LightGBM] [Warning] No further splits with positive gain, best gain: -inf\n",
            "[LightGBM] [Warning] No further splits with positive gain, best gain: -inf\n",
            "[LightGBM] [Warning] No further splits with positive gain, best gain: -inf\n",
            "[LightGBM] [Warning] No further splits with positive gain, best gain: -inf\n",
            "[LightGBM] [Warning] No further splits with positive gain, best gain: -inf\n",
            "[LightGBM] [Warning] No further splits with positive gain, best gain: -inf\n",
            "[LightGBM] [Warning] No further splits with positive gain, best gain: -inf\n",
            "[LightGBM] [Warning] No further splits with positive gain, best gain: -inf\n",
            "Ensemble Model:\n",
            "Accuracy: 0.9966777408637874\n",
            "F1 Score: 0.0\n",
            "ROC AUC: 0.5\n",
            "Confusion Matrix:\n",
            " [[300   0]\n",
            " [  1   0]]\n"
          ]
        },
        {
          "output_type": "stream",
          "name": "stderr",
          "text": [
            "/usr/local/lib/python3.11/dist-packages/sklearn/utils/deprecation.py:151: FutureWarning: 'force_all_finite' was renamed to 'ensure_all_finite' in 1.6 and will be removed in 1.8.\n",
            "  warnings.warn(\n"
          ]
        }
      ],
      "source": [
        "ensemble = VotingClassifier(estimators=[\n",
        "    ('rf', RandomForestClassifier(n_estimators=100)),\n",
        "    ('xgb', XGBClassifier(use_label_encoder=False, eval_metric='logloss')),\n",
        "    ('lgbm', LGBMClassifier())\n",
        "], voting='soft')\n",
        "\n",
        "ensemble.fit(X_train, y_train)\n",
        "print(\"Ensemble Model:\")\n",
        "evaluate_model(ensemble, X_test, y_test)\n"
      ]
    },
    {
      "cell_type": "markdown",
      "source": [
        "### Mentor Feedback Acknowledgment\n",
        "\n",
        "My mentor recommended reviewing the models for signs of overfitting and examining the confusion matrices to better understand performance.\n",
        "\n",
        "In response, I:\n",
        "\n",
        "- Re-examined the confusion matrices for all models\n",
        "- Evaluated F1 scores, which were consistently low despite high accuracy\n",
        "- Identified that models were predicting the majority class (Response = 0) almost exclusively\n",
        "- Confirmed that this is a classic overfitting issue caused by extreme class imbalance\n",
        "\n",
        "To mitigate this, I applied:\n",
        "- `class_weight='balanced'` to Logistic Regression and Random Forest\n",
        "- SMOTE to rebalance the training data\n",
        "- Confusion matrix visualizations to compare prediction behaviors\n",
        "\n",
        "These analyses confirmed the overfitting behavior and poor recall for the minority class. The follow-up actions are documented in the “Next Steps” section.\n",
        "\n",
        "---\n",
        "\n",
        "### Final Summary – Step 7: Model Experimentation\n",
        "\n",
        "In this step, I rigorously evaluated several machine learning models to predict QA failures in the highly imbalanced Bosch dataset.\n",
        "\n",
        "#### Models Tested:\n",
        "- Logistic Regression, Random Forest, XGBoost, LightGBM\n",
        "- With and without SMOTE and class weights\n",
        "- Ensemble Voting Classifier\n",
        "- XGBoost with hyperparameter tuning\n",
        "\n",
        "#### Evaluation Approach:\n",
        "- Metrics: F1 Score, Accuracy, ROC AUC\n",
        "- Visualization: Confusion Matrices\n",
        "- Focus: Performance on minority class (Response = 1)\n",
        "\n",
        "#### Key Findings:\n",
        "- **Logistic Regression with SMOTE** performed best, with an F1 score of ~0.027\n",
        "- **XGBoost and Random Forest** achieved high accuracy but failed to detect any failures\n",
        "- **Ensemble models** did not significantly improve minority class detection\n",
        "\n",
        "While predictive power for the majority class was strong, generalization to the minority class (failures) remains a major challenge due to extreme imbalance.\n",
        "\n",
        "This sets the foundation for the next phase: applying cost-sensitive learning, anomaly detection, and improved feature engineering to increase recall and reduce overfitting."
      ],
      "metadata": {
        "id": "dk42YB5GMvqx"
      },
      "id": "dk42YB5GMvqx"
    }
  ],
  "metadata": {
    "colab": {
      "provenance": [],
      "include_colab_link": true
    },
    "language_info": {
      "name": "python"
    },
    "kernelspec": {
      "name": "python3",
      "display_name": "Python 3"
    }
  },
  "nbformat": 4,
  "nbformat_minor": 5
}