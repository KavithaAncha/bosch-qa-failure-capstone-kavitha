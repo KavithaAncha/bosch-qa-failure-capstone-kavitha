{
  "cells": [
    {
      "cell_type": "markdown",
      "id": "fbb232f2",
      "metadata": {
        "id": "fbb232f2"
      },
      "source": [
        "#  Step 5: Data Wrangling – Bosch QA Failure Prediction\n"
      ]
    },
    {
      "cell_type": "markdown",
      "id": "8e0af3ef",
      "metadata": {
        "id": "8e0af3ef"
      },
      "source": [
        "## 1. Load and Preview Data\n",
        "Load the numeric, categorical, and date files; preview with `.head()` and `.info()`"
      ]
    },
    {
      "cell_type": "code",
      "execution_count": null,
      "id": "361c60a8",
      "metadata": {
        "id": "361c60a8"
      },
      "outputs": [],
      "source": [
        "import pandas as pd\n",
        "\n",
        "numeric = pd.read_csv('train_numeric.csv', nrows=100000)\n",
        "categorical = pd.read_csv('train_categorical.csv', nrows=100000)\n",
        "date = pd.read_csv('train_date.csv', nrows=100000)\n",
        "\n",
        "numeric.head()"
      ]
    },
    {
      "cell_type": "markdown",
      "id": "26440e0a",
      "metadata": {
        "id": "26440e0a"
      },
      "source": [
        "## 2. Data Cleaning\n",
        "Apply cleaning steps to prepare the dataset."
      ]
    },
    {
      "cell_type": "markdown",
      "id": "4555861b",
      "metadata": {
        "id": "4555861b"
      },
      "source": [
        "### 2.1 Drop Constant Columns"
      ]
    },
    {
      "cell_type": "code",
      "execution_count": null,
      "id": "a32d1c45",
      "metadata": {
        "id": "a32d1c45"
      },
      "outputs": [],
      "source": [
        "nunique = numeric.nunique()\n",
        "const_cols = nunique[nunique == 1].index.tolist()\n",
        "numeric.drop(columns=const_cols, inplace=True)"
      ]
    },
    {
      "cell_type": "markdown",
      "id": "5bc22d79",
      "metadata": {
        "id": "5bc22d79"
      },
      "source": [
        "### 2.2 Drop High-Missing Columns"
      ]
    },
    {
      "cell_type": "code",
      "execution_count": null,
      "id": "bb0ab049",
      "metadata": {
        "id": "bb0ab049"
      },
      "outputs": [],
      "source": [
        "missing_pct = numeric.isnull().mean()\n",
        "high_missing = missing_pct[missing_pct > 0.9].index\n",
        "numeric.drop(columns=high_missing, inplace=True)"
      ]
    },
    {
      "cell_type": "markdown",
      "id": "0b7fdf5c",
      "metadata": {
        "id": "0b7fdf5c"
      },
      "source": [
        "### 2.3 Fill Missing Values"
      ]
    },
    {
      "cell_type": "code",
      "execution_count": null,
      "id": "2cfdeb0c",
      "metadata": {
        "id": "2cfdeb0c"
      },
      "outputs": [],
      "source": [
        "numeric.fillna(numeric.median(), inplace=True)"
      ]
    },
    {
      "cell_type": "markdown",
      "id": "a0696b2a",
      "metadata": {
        "id": "a0696b2a"
      },
      "source": [
        "## 3. Outlier Detection (Optional)\n",
        "Detect and handle outliers here if applicable to your project."
      ]
    },
    {
      "cell_type": "markdown",
      "id": "2d05c61f",
      "metadata": {
        "id": "2d05c61f"
      },
      "source": [
        "## 4. Subset Data for Prototyping"
      ]
    },
    {
      "cell_type": "code",
      "execution_count": null,
      "id": "d26754d6",
      "metadata": {
        "id": "d26754d6"
      },
      "outputs": [],
      "source": [
        "sample = numeric.sample(n=100000, random_state=42)"
      ]
    },
    {
      "cell_type": "markdown",
      "id": "838abbd9",
      "metadata": {
        "id": "838abbd9"
      },
      "source": [
        "## 5. Export Cleaned Subset"
      ]
    },
    {
      "cell_type": "code",
      "execution_count": null,
      "id": "f7190818",
      "metadata": {
        "id": "f7190818"
      },
      "outputs": [],
      "source": [
        "sample.to_csv('bosch_clean_subset.csv', index=False)"
      ]
    },
    {
      "cell_type": "markdown",
      "id": "59901cd3",
      "metadata": {
        "id": "59901cd3"
      },
      "source": [
        "# Optional: Step 6 – Exploratory Data Analysis (EDA)"
      ]
    },
    {
      "cell_type": "markdown",
      "id": "78f89d2f",
      "metadata": {
        "id": "78f89d2f"
      },
      "source": [
        "## 6. Feature Correlation with Response"
      ]
    },
    {
      "cell_type": "code",
      "execution_count": null,
      "id": "c1d8249e",
      "metadata": {
        "id": "c1d8249e"
      },
      "outputs": [],
      "source": [
        "from scipy.stats import pointbiserialr\n",
        "\n",
        "correlations = {}\n",
        "for col in numeric.columns:\n",
        "    if col not in ['Id', 'Response']:\n",
        "        try:\n",
        "            corr, _ = pointbiserialr(numeric[col], numeric['Response'])\n",
        "            correlations[col] = corr\n",
        "        except:\n",
        "            continue\n",
        "\n",
        "top_features = sorted(correlations.items(), key=lambda x: abs(x[1]), reverse=True)[:5]\n",
        "top_features"
      ]
    },
    {
      "cell_type": "markdown",
      "id": "3aa18263",
      "metadata": {
        "id": "3aa18263"
      },
      "source": [
        "## 7. Visualize Top Features"
      ]
    },
    {
      "cell_type": "code",
      "execution_count": null,
      "id": "b1eaed09",
      "metadata": {
        "id": "b1eaed09"
      },
      "outputs": [],
      "source": [
        "import seaborn as sns\n",
        "import matplotlib.pyplot as plt\n",
        "\n",
        "top_col = top_features[0][0]\n",
        "sns.histplot(data=numeric, x=top_col, hue=\"Response\", bins=50)\n",
        "plt.title(f'Distribution of {top_col} by QA Response')\n",
        "plt.show()"
      ]
    }
  ],
  "metadata": {
    "colab": {
      "provenance": []
    }
  },
  "nbformat": 4,
  "nbformat_minor": 5
}